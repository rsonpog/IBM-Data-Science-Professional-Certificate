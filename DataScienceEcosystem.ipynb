{
 "cells": [
  {
   "cell_type": "markdown",
   "id": "f9cf3584-badc-469a-b604-5ed620f78fd7",
   "metadata": {},
   "source": [
    "# Data Science Tools and Ecosystem"
   ]
  },
  {
   "cell_type": "markdown",
   "id": "a60bc66b-9f4d-4d62-ae03-b7906a2c7f03",
   "metadata": {},
   "source": [
    "In this notebook, Data Science Tools and Ecosystem are summarized."
   ]
  },
  {
   "cell_type": "markdown",
   "id": "9caaa41c-df91-4263-86b4-9cb321bdaa19",
   "metadata": {},
   "source": [
    "Some of the popular languages that Data Scientists use are:\n",
    "1. Python\n",
    "2. C++\n",
    "3. R"
   ]
  },
  {
   "cell_type": "markdown",
   "id": "98cb040e-1181-4cd8-b509-27266b157b26",
   "metadata": {},
   "source": [
    "Some of the most commonly used libraries used by Data Scientists include:\n",
    "1. Pandas\n",
    "2. TensorFlow\n",
    "3. ggplot2"
   ]
  },
  {
   "cell_type": "markdown",
   "id": "77058d14-cd79-4769-add9-55bdb95d475f",
   "metadata": {},
   "source": [
    "|Data Science Tools|\n",
    "|------------------|\n",
    "|Pandas|\n",
    "|Hadoop|\n",
    "|ApacheSpark|"
   ]
  },
  {
   "cell_type": "markdown",
   "id": "ddbefde8-7086-41f8-be2e-b57a637dfdb8",
   "metadata": {},
   "source": [
    "### Below are a few examples of evaluating arithmetic expressions in Python."
   ]
  },
  {
   "cell_type": "code",
   "execution_count": 2,
   "id": "ea78caf5-4d59-4a30-8209-8074aa71e03c",
   "metadata": {},
   "outputs": [
    {
     "name": "stdout",
     "output_type": "stream",
     "text": [
      "This is a simple arithmetic expression to multiply then add integers.\n"
     ]
    },
    {
     "data": {
      "text/plain": [
       "17"
      ]
     },
     "execution_count": 2,
     "metadata": {},
     "output_type": "execute_result"
    }
   ],
   "source": [
    "print(\"This is a simple arithmetic expression to multiply then add integers.\")\n",
    "(3*4)+5"
   ]
  },
  {
   "cell_type": "code",
   "execution_count": 3,
   "id": "3e299fee-9d38-40e8-9a8b-b918d96b6789",
   "metadata": {},
   "outputs": [
    {
     "name": "stdout",
     "output_type": "stream",
     "text": [
      "This will convert 200 minutes to hours by dividing by 60\n"
     ]
    },
    {
     "data": {
      "text/plain": [
       "3.3333333333333335"
      ]
     },
     "execution_count": 3,
     "metadata": {},
     "output_type": "execute_result"
    }
   ],
   "source": [
    "print(\"This will convert 200 minutes to hours by dividing by 60\")\n",
    "200/60"
   ]
  },
  {
   "cell_type": "markdown",
   "id": "1c8ffd62-7f95-4ba6-9635-0dad9d027d2e",
   "metadata": {},
   "source": [
    "**Objectives:**\n",
    "* Popular languages in Data Science\n",
    "* Popular libraries used in Data Science\n",
    "* Some important Data Science tools\n",
    "* Basic arithmetic expressions evaluated using Python"
   ]
  },
  {
   "cell_type": "markdown",
   "id": "142afa5e-d1ae-4ecb-929a-95e38206ce2e",
   "metadata": {},
   "source": [
    "## Author\n",
    " Ahana Chatterjee"
   ]
  }
 ],
 "metadata": {
  "kernelspec": {
   "display_name": "Python 3 (ipykernel)",
   "language": "python",
   "name": "python3"
  },
  "language_info": {
   "codemirror_mode": {
    "name": "ipython",
    "version": 3
   },
   "file_extension": ".py",
   "mimetype": "text/x-python",
   "name": "python",
   "nbconvert_exporter": "python",
   "pygments_lexer": "ipython3",
   "version": "3.11.8"
  }
 },
 "nbformat": 4,
 "nbformat_minor": 5
}
